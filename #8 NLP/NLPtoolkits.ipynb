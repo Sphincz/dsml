{
 "cells": [
  {
   "cell_type": "markdown",
   "metadata": {},
   "source": [
    "# NLP using Spacy"
   ]
  },
  {
   "cell_type": "code",
   "execution_count": 1,
   "metadata": {},
   "outputs": [],
   "source": [
    "import spacy\n",
    "\n",
    "nlp = spacy.load('en')\n",
    "doc = nlp(u'Apple is looking at buying U.K. startup for $1 billion')"
   ]
  },
  {
   "cell_type": "markdown",
   "metadata": {},
   "source": [
    "## Tokens"
   ]
  },
  {
   "cell_type": "code",
   "execution_count": 2,
   "metadata": {},
   "outputs": [
    {
     "name": "stdout",
     "output_type": "stream",
     "text": [
      "Apple\n",
      "is\n",
      "looking\n",
      "at\n",
      "buying\n",
      "U.K.\n",
      "startup\n",
      "for\n",
      "$\n",
      "1\n",
      "billion\n"
     ]
    }
   ],
   "source": [
    "for token in doc:\n",
    "    print(token.text)"
   ]
  },
  {
   "cell_type": "markdown",
   "metadata": {},
   "source": [
    "## Lemma, POS, Tag, Dependency Tag, Is Alphanumeric, Is Stop Word"
   ]
  },
  {
   "cell_type": "code",
   "execution_count": 3,
   "metadata": {},
   "outputs": [
    {
     "name": "stdout",
     "output_type": "stream",
     "text": [
      "Apple apple PROPN NNP nsubj True False\n",
      "is be VERB VBZ aux True True\n",
      "looking look VERB VBG ROOT True False\n",
      "at at ADP IN prep True True\n",
      "buying buy VERB VBG pcomp True False\n",
      "U.K. u.k. PROPN NNP compound False False\n",
      "startup startup NOUN NN dobj True False\n",
      "for for ADP IN prep True True\n",
      "$ $ SYM $ quantmod False False\n",
      "1 1 NUM CD compound False False\n",
      "billion billion NUM CD pobj True False\n"
     ]
    }
   ],
   "source": [
    "for token in doc:\n",
    "    print(token.text, token.lemma_, token.pos_, token.tag_, token.dep_, token.is_alpha, token.is_stop)"
   ]
  },
  {
   "cell_type": "markdown",
   "metadata": {},
   "source": [
    "## Phrases (chunks) and dependencies"
   ]
  },
  {
   "cell_type": "code",
   "execution_count": 8,
   "metadata": {},
   "outputs": [
    {
     "name": "stdout",
     "output_type": "stream",
     "text": [
      "Apple | nsubj\n",
      "U.K. startup | dobj\n"
     ]
    }
   ],
   "source": [
    "for chunk in doc.noun_chunks:\n",
    "    print(chunk.text, '|', chunk.root.dep_,)"
   ]
  },
  {
   "cell_type": "markdown",
   "metadata": {},
   "source": [
    "## Named Entities"
   ]
  },
  {
   "cell_type": "code",
   "execution_count": 9,
   "metadata": {},
   "outputs": [
    {
     "name": "stdout",
     "output_type": "stream",
     "text": [
      "Apple 0 5 ORG\n",
      "U.K. 27 31 GPE\n",
      "$1 billion 44 54 MONEY\n"
     ]
    }
   ],
   "source": [
    "for ent in doc.ents:\n",
    "    print(ent.text, ent.start_char, ent.end_char, ent.label_)"
   ]
  },
  {
   "cell_type": "markdown",
   "metadata": {},
   "source": [
    "# NLP using TextBlob"
   ]
  },
  {
   "cell_type": "code",
   "execution_count": 10,
   "metadata": {},
   "outputs": [],
   "source": [
    "from textblob import TextBlob\n",
    "text = \"\"\"Natural language processing (NLP) deals with the application of computational models to text or speech data.\n",
    "Application areas within NLP include automatic (machine) translation between languages; dialogue systems, which allow a human to interact with a machine using natural language; and information extraction, where the goal is to transform unstructured text into structured (database) representations that can be searched and browsed in flexible ways.\"\"\"\n",
    "blob = TextBlob(text)"
   ]
  },
  {
   "cell_type": "markdown",
   "metadata": {},
   "source": [
    "## Tokens and POS Tags"
   ]
  },
  {
   "cell_type": "code",
   "execution_count": 12,
   "metadata": {},
   "outputs": [
    {
     "name": "stdout",
     "output_type": "stream",
     "text": [
      "[('Natural', 'JJ'), ('language', 'NN'), ('processing', 'NN'), ('NLP', 'NNP'), ('deals', 'VBZ'), ('with', 'IN'), ('the', 'DT'), ('application', 'NN'), ('of', 'IN'), ('computational', 'JJ'), ('models', 'NNS'), ('to', 'TO'), ('text', 'VB'), ('or', 'CC'), ('speech', 'VB'), ('data', 'NNS'), ('Application', 'NNP'), ('areas', 'NNS'), ('within', 'IN'), ('NLP', 'NNP'), ('include', 'VBP'), ('automatic', 'JJ'), ('machine', 'NN'), ('translation', 'NN'), ('between', 'IN'), ('languages', 'NNS'), ('dialogue', 'NN'), ('systems', 'NNS'), ('which', 'WDT'), ('allow', 'VBP'), ('a', 'DT'), ('human', 'JJ'), ('to', 'TO'), ('interact', 'VB'), ('with', 'IN'), ('a', 'DT'), ('machine', 'NN'), ('using', 'VBG'), ('natural', 'JJ'), ('language', 'NN'), ('and', 'CC'), ('information', 'NN'), ('extraction', 'NN'), ('where', 'WRB'), ('the', 'DT'), ('goal', 'NN'), ('is', 'VBZ'), ('to', 'TO'), ('transform', 'VB'), ('unstructured', 'JJ'), ('text', 'NN'), ('into', 'IN'), ('structured', 'VBN'), ('database', 'NN'), ('representations', 'NNS'), ('that', 'WDT'), ('can', 'MD'), ('be', 'VB'), ('searched', 'VBN'), ('and', 'CC'), ('browsed', 'VBN'), ('in', 'IN'), ('flexible', 'JJ'), ('ways', 'NNS')]\n"
     ]
    }
   ],
   "source": [
    "print(blob.tags)"
   ]
  },
  {
   "cell_type": "markdown",
   "metadata": {},
   "source": [
    "## Noun Phrases"
   ]
  },
  {
   "cell_type": "code",
   "execution_count": 14,
   "metadata": {},
   "outputs": [
    {
     "name": "stdout",
     "output_type": "stream",
     "text": [
      "['natural language processing', 'nlp', 'computational models', 'speech data', 'application', 'nlp', 'dialogue systems', 'natural language', 'information extraction', 'flexible ways']\n"
     ]
    }
   ],
   "source": [
    "print(blob.noun_phrases)"
   ]
  },
  {
   "cell_type": "markdown",
   "metadata": {},
   "source": [
    "## Sentences"
   ]
  },
  {
   "cell_type": "code",
   "execution_count": 15,
   "metadata": {},
   "outputs": [
    {
     "name": "stdout",
     "output_type": "stream",
     "text": [
      "[Sentence(\"Natural language processing (NLP) deals with the application of computational models to text or speech data.\"), Sentence(\"Application areas within NLP include automatic (machine) translation between languages; dialogue systems, which allow a human to interact with a machine using natural language; and information extraction, where the goal is to transform unstructured text into structured (database) representations that can be searched and browsed in flexible ways.\")]\n"
     ]
    }
   ],
   "source": [
    "print(blob.sentences)"
   ]
  },
  {
   "cell_type": "markdown",
   "metadata": {},
   "source": [
    "## Translation!"
   ]
  },
  {
   "cell_type": "code",
   "execution_count": 18,
   "metadata": {},
   "outputs": [
    {
     "name": "stdout",
     "output_type": "stream",
     "text": [
      "Le traitement du langage naturel (NLP) traite de l’application de modèles informatiques aux données textuelles ou vocales.\n",
      "Les domaines d’application de la PNL incluent la traduction automatique (machine) entre les langues; les systèmes de dialogue, qui permettent à un humain d'interagir avec une machine en utilisant le langage naturel; et l'extraction d'informations, où l'objectif est de transformer le texte non structuré en représentations structurées (base de données) pouvant être recherchées et parcourues de manière flexible.\n"
     ]
    }
   ],
   "source": [
    "print(blob.translate(to=\"fr\"))"
   ]
  },
  {
   "cell_type": "code",
   "execution_count": null,
   "metadata": {},
   "outputs": [],
   "source": []
  }
 ],
 "metadata": {
  "kernelspec": {
   "display_name": "Python 3",
   "language": "python",
   "name": "python3"
  },
  "language_info": {
   "codemirror_mode": {
    "name": "ipython",
    "version": 3
   },
   "file_extension": ".py",
   "mimetype": "text/x-python",
   "name": "python",
   "nbconvert_exporter": "python",
   "pygments_lexer": "ipython3",
   "version": "3.6.7"
  }
 },
 "nbformat": 4,
 "nbformat_minor": 2
}
